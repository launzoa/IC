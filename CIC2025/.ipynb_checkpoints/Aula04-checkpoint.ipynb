{
 "cells": [
  {
   "cell_type": "code",
   "execution_count": 9,
   "id": "f15772a7-ab5b-4944-a004-6f535ba1e057",
   "metadata": {},
   "outputs": [
    {
     "name": "stdout",
     "output_type": "stream",
     "text": [
      "--- Verificando os Pesos do Modelo ---\n",
      "Peso w1: 0.5\n",
      "Viés b1: 0.1\n",
      "Peso w2: 0.8\n",
      "Viés b2: -0.2\n",
      "-----------------------------------\n",
      "Entrada (x): 10.0\n",
      "Saída Final da Rede: 0.5952\n",
      "Nosso Cálculo Manual: 0.5951\n",
      "Valor 'a' após Sigmoide (calculado): 0.9939\n"
     ]
    }
   ],
   "source": [
    "import torch\n",
    "import torch.nn as nn\n",
    "import numpy as np\n",
    "\n",
    "class Model(nn.Module):\n",
    "\n",
    "    def __init__(self):\n",
    "        super().__init__()\n",
    "\n",
    "        self.hidden_layer = nn.Linear(in_features=1, out_features=1, bias=True)\n",
    "        self.output_layer = nn.Linear(in_features=1, out_features=1)\n",
    "        self.activation = nn.Sigmoid()\n",
    "\n",
    "    def forward(self, x):\n",
    "        out = self.hidden_layer(x)\n",
    "        out = self.activation(out)\n",
    "        out = self.output_layer(out)\n",
    "        \n",
    "        return out\n",
    "\n",
    "        \n",
    "model = Model()\n",
    "\n",
    "weights = []\n",
    "bias = []\n",
    "\n",
    "with torch.no_grad():\n",
    "    \n",
    "    model.hidden_layer.weight.fill_(0.5)\n",
    "    model.hidden_layer.bias.fill_(0.1)\n",
    "\n",
    "    model.output_layer.weight.fill_(0.8)\n",
    "    model.output_layer.bias.fill_(-0.2)\n",
    "\n",
    "in_x = torch.tensor([10], dtype=torch.float32)\n",
    "out_x = model(in_x)\n",
    "\n",
    "print(f\"--- Verificando os Pesos do Modelo ---\")\n",
    "print(f\"Peso w1: {model.hidden_layer.weight.item():.1f}\")\n",
    "print(f\"Viés b1: {model.hidden_layer.bias.item():.1f}\")\n",
    "print(f\"Peso w2: {model.output_layer.weight.item():.1f}\")\n",
    "print(f\"Viés b2: {model.output_layer.bias.item():.1f}\")\n",
    "print(\"-\" * 35)\n",
    "\n",
    "print(f\"Entrada (x): {in_x.item():.1f}\")\n",
    "print(f\"Saída Final da Rede: {out_x.item():.4f}\")\n",
    "print(f\"Nosso Cálculo Manual: 0.5951\")\n",
    "\n",
    "# Verificação do cálculo intermediário\n",
    "y = (10.0 * 0.5) + 0.1\n",
    "a = 1 / (1 + np.exp(-y))\n",
    "print(f\"Valor 'a' após Sigmoide (calculado): {a:.4f}\")"
   ]
  }
 ],
 "metadata": {
  "kernelspec": {
   "display_name": "Python 3 (ipykernel)",
   "language": "python",
   "name": "python3"
  },
  "language_info": {
   "codemirror_mode": {
    "name": "ipython",
    "version": 3
   },
   "file_extension": ".py",
   "mimetype": "text/x-python",
   "name": "python",
   "nbconvert_exporter": "python",
   "pygments_lexer": "ipython3",
   "version": "3.13.7"
  }
 },
 "nbformat": 4,
 "nbformat_minor": 5
}
