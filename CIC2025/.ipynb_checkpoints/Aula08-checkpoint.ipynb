{
 "cells": [
  {
   "cell_type": "code",
   "execution_count": 10,
   "id": "faf87db8-d5ad-46b7-9fa0-a8bb1733347f",
   "metadata": {},
   "outputs": [
    {
     "name": "stdout",
     "output_type": "stream",
     "text": [
      "[0.01568275 0.12806802 0.85624923]\n"
     ]
    }
   ],
   "source": [
    "import numpy as np\n",
    "\n",
    "def Softmax(x):\n",
    "    \n",
    "    summation = 0\n",
    "    \n",
    "    for a in x:\n",
    "        summation += np.exp(a)\n",
    "    \n",
    "    return np.exp(x) / summation\n",
    "\n",
    "\n",
    "vector = np.array([-1.6, 0.5, 2.4])\n",
    "print(Softmax(vector))"
   ]
  }
 ],
 "metadata": {
  "kernelspec": {
   "display_name": "Python 3 (ipykernel)",
   "language": "python",
   "name": "python3"
  },
  "language_info": {
   "codemirror_mode": {
    "name": "ipython",
    "version": 3
   },
   "file_extension": ".py",
   "mimetype": "text/x-python",
   "name": "python",
   "nbconvert_exporter": "python",
   "pygments_lexer": "ipython3",
   "version": "3.13.7"
  }
 },
 "nbformat": 4,
 "nbformat_minor": 5
}
