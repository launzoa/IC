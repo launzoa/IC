{
 "cells": [
  {
   "cell_type": "code",
   "execution_count": 6,
   "id": "f4330e44-e1d9-4591-bc3e-cb0c0da3fcbc",
   "metadata": {},
   "outputs": [
    {
     "name": "stdout",
     "output_type": "stream",
     "text": [
      "Aluno: Miguel | Soma (z): 1.16 | Resultado: 1.1600000858306885\n",
      "Aluno: Bruno | Soma (z): 0.76 | Resultado: 0.7599999904632568\n"
     ]
    }
   ],
   "source": [
    "import torch \n",
    "import torch.nn as nn\n",
    "\n",
    "class Model(nn.Module):\n",
    "    def __init__(self):\n",
    "        super().__init__()\n",
    "        self.input_layer = nn.Linear(in_features=3, out_features=1, bias=False)\n",
    "\n",
    "    def forward(self, x):\n",
    "        return self.input_layer(x)\n",
    "\n",
    "model = Model()\n",
    "\n",
    "pesos = torch.tensor([0.8, 0.2, 0.6], dtype=torch.float32) # Os pesos precisam estar em um tensor com o formato correto (1, 3)\n",
    "model.input_layer.weight.data.copy_(pesos) # Atribuímos nossos pesos à camada do modelo\n",
    "\n",
    "dados_alunos = torch.tensor([\n",
    "    [0.8, 0.5, 0.7],\n",
    "    [0.3, 0.2, 0.8]\n",
    "], dtype=torch.float32)\n",
    "\n",
    "nomes_alunos = [\"Miguel\", \"Bruno\"]\n",
    "\n",
    "with torch.no_grad(): # Desativamos o cálculo de gradientes, pois não vamos treinar\n",
    "    soma_ponderada = model(dados_alunos)\n",
    "\n",
    "for i, s in enumerate(soma_ponderada):\n",
    "    soma = s.item() # .item() extrai o valor numérico do tensor\n",
    "    nome = nomes_alunos[i]\n",
    "    if soma >= 1: \n",
    "        resultado = \"Aprovado\"\n",
    "    else:\n",
    "        resultado = \"Reprovado\"\n",
    "        \n",
    "    print(f\"Aluno: {nome} | Soma (z): {soma:.2f} | Resultado: {soma}\")"
   ]
  },
  {
   "cell_type": "code",
   "execution_count": null,
   "id": "5888f450-58e6-453c-8c9a-2dbc87235efe",
   "metadata": {},
   "outputs": [],
   "source": []
  }
 ],
 "metadata": {
  "kernelspec": {
   "display_name": "Python 3 (ipykernel)",
   "language": "python",
   "name": "python3"
  },
  "language_info": {
   "codemirror_mode": {
    "name": "ipython",
    "version": 3
   },
   "file_extension": ".py",
   "mimetype": "text/x-python",
   "name": "python",
   "nbconvert_exporter": "python",
   "pygments_lexer": "ipython3",
   "version": "3.13.7"
  }
 },
 "nbformat": 4,
 "nbformat_minor": 5
}
