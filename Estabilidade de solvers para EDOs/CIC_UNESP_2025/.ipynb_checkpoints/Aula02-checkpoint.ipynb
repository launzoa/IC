{
 "cells": [
  {
   "cell_type": "code",
   "execution_count": 2,
   "id": "202be217-74e9-4434-8340-3eff7096a072",
   "metadata": {
    "collapsed": true,
    "jupyter": {
     "outputs_hidden": true,
     "source_hidden": true
    }
   },
   "outputs": [
    {
     "name": "stdout",
     "output_type": "stream",
     "text": [
      "[14.0, 68.0, 212.0]\n"
     ]
    }
   ],
   "source": [
    "import torch \n",
    "import torch.nn as nn\n",
    "import pandas as pd\n",
    "\n",
    "def convert_celcius_to_farenheit(celcius):\n",
    "    return (1.8*celcius + 32)\n",
    "\n",
    "temp_celcius = [-10,20,100]\n",
    "temp_farenheit = [convert_celcius_to_farenheit(temp) for temp in temp_celcius]\n",
    "\n",
    "print(temp_farenheit)\n"
   ]
  },
  {
   "cell_type": "code",
   "execution_count": 8,
   "id": "acf35cac-99f2-42ca-9f32-971947c667cb",
   "metadata": {},
   "outputs": [],
   "source": [
    "class Model(nn.Module):\n",
    "    def __init__(self):\n",
    "        super().__init__()\n",
    "        self.input_layer = nn.Linear(in_features=1, out_features=1, bias=True)\n",
    "\n",
    "    def forward(self, x):\n",
    "        out = self.input_layer(x)\n",
    "        return out"
   ]
  },
  {
   "cell_type": "code",
   "execution_count": 22,
   "id": "9a007c94-f27d-46b9-864c-b69e821c3df8",
   "metadata": {},
   "outputs": [
    {
     "name": "stdout",
     "output_type": "stream",
     "text": [
      "Peso: 1.80\n",
      "Bias: 32.00\n",
      "Valor predito: tensor([140.0000], grad_fn=<ViewBackward0>)\n"
     ]
    }
   ],
   "source": [
    "df = pd.DataFrame({'Celcius':temp_celcius, 'Farenheit':temp_farenheit})\n",
    "\n",
    "x = torch.FloatTensor(df.Celcius.values.astype(float))\n",
    "y = torch.FloatTensor(df.Farenheit.values.astype(float))\n",
    "y = y.unsqueeze(1)\n",
    "\n",
    "x = x.view(x.size(0), -1)\n",
    "EPOCHS = 1000\n",
    "LR = 0.2\n",
    "\n",
    "model = Model()\n",
    "criterion = nn.MSELoss()\n",
    "optimizer = torch.optim.Adam(params=model.parameters(), lr=LR)\n",
    "\n",
    "weights = []\n",
    "bias = []\n",
    "\n",
    "for epoch in range(EPOCHS):\n",
    "    \n",
    "    outputs = model.forward(x)\n",
    "    loss = criterion(outputs, y)\n",
    "    optimizer.zero_grad()\n",
    "    loss.backward()\n",
    "    optimizer.step()\n",
    "\n",
    "    weights.append(model.input_layer.weight.item())\n",
    "    bias.append(model.input_layer.bias.item())\n",
    "\n",
    "print(f\"Peso: {model.input_layer.weight.item():.2f}\")\n",
    "print(f\"Bias: {model.input_layer.bias.item():.2f}\")\n",
    "\n",
    "print(f\"Valor predito: {model.forward(torch.FloatTensor([60]))}\")"
   ]
  }
 ],
 "metadata": {
  "kernelspec": {
   "display_name": "Python 3 (ipykernel)",
   "language": "python",
   "name": "python3"
  },
  "language_info": {
   "codemirror_mode": {
    "name": "ipython",
    "version": 3
   },
   "file_extension": ".py",
   "mimetype": "text/x-python",
   "name": "python",
   "nbconvert_exporter": "python",
   "pygments_lexer": "ipython3",
   "version": "3.13.7"
  }
 },
 "nbformat": 4,
 "nbformat_minor": 5
}
