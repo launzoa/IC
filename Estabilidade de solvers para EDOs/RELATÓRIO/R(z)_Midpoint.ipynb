{
 "cells": [
  {
   "cell_type": "markdown",
   "id": "27c99a12",
   "metadata": {},
   "source": [
    "# Região de Estabilidade do Método Explícito do Ponto Médio (Euler modificado)\n",
    "\n",
    "O método do Ponto Médio é dado pela fórmula: \n",
    "    $$\n",
    "        \\begin{align*}\n",
    "        k_1 &= f(t_n, u_n)\\\\\n",
    "        k_2 &= f\\left(t_n + \\frac{h}{2}, \\ u_n + \\frac{h}{2} k_1 \\right) \\\\\n",
    "        u_{n+1} &= u_{n} + h (k_1 + k_2) \n",
    "        \\end{align*}\n",
    "    $$\n",
    "    \n",
    "agora fazemos a substituição pela equação de teste de Dahlquist. Primeiro vamos substitui-la nos coeficientes $k_1$ e $k_2$ de forma individual.\n",
    "    \n",
    "Para o $k_1$, temos:\n",
    "    $$\n",
    "    \\begin{align*}\n",
    "        k_1 = f(t_n, u_n) = \\lambda u_n\n",
    "    \\end{align*}\n",
    "    $$\n",
    "\n",
    "e para o $k_2$: \n",
    "    $$\n",
    "    \\begin{align*}\n",
    "        k_2 &= f(t_n + \\frac{h}{2}, \\ u_n + \\frac{h}{2}k1) \\\\\n",
    "        k_2 &= f\\left(t_n + \\frac{h}{2}, \\ u_n + \\frac{h}{2}\\lambda u_n\\right) \\\\\n",
    "        k_2 &= \\lambda \\cdot \\left( u_n + \\frac{h \\lambda}{2} u_n\\right)\n",
    "    \\end{align*}\n",
    "    $$\n",
    "\n",
    "fatorando em função de $u_n$, obtemos: \n",
    "    $$\n",
    "    \\begin{align*}\n",
    "        k_2 &= \\lambda u_n \\cdot \\left( 1 + \\frac{h \\lambda}{2}\\right)\n",
    "    \\end{align*}\n",
    "    $$\n",
    "e assumindo o valor de $z$ pela definição da Região de Estabilidade, temos:\n",
    "    $$\n",
    "    \\begin{align*}\n",
    "        k_2 &= \\lambda u_n \\cdot \\left( 1 + \\frac{z}{2}\\right)\n",
    "    \\end{align*}\n",
    "    $$\n",
    "encontramos os dois coeficientes da fórmula, basta apenas substitui-los:\n",
    "    $$\n",
    "    \\begin{align*}\n",
    "        u_{n+1} &= u_{n} + h (k_1 + k_2) \\\\\n",
    "        u_{n+1} &= u_{n} + h \\left(\\lambda u_n  + \\lambda u_n (1 + \\frac{z}{2}\\right) \\\\ \n",
    "    \\end{align*}\n",
    "    $$\n",
    "fatorando $\\lambda u_n$:\n",
    "    $$\n",
    "    \\begin{align*}\n",
    "        u_{n+1} &= u_{n} + h \\lambda \\ u_n  \\left(1  + 1 + \\frac{z}{2}\\right) \\\\ \n",
    "        u_{n+1} &= u_{n} + z u_n  \\left(2 + \\frac{z}{2} \\right) \\\\ \n",
    "    \\end{align*}\n",
    "    $$\n",
    "agora podemos aplicar $R(z) = \\frac{u_{n+1}}{u_n}$ e obter a região: \n",
    "    $$\n",
    "    \\begin{align*}\n",
    "        R(z) &= 1 + 2z + \\frac{z^2}{2}\n",
    "    \\end{align*}\n",
    "    $$"
   ]
  },
  {
   "cell_type": "code",
   "execution_count": null,
   "id": "a6a5d660",
   "metadata": {},
   "outputs": [],
   "source": [
    "import numpy as np \n",
    "import matplotlib.pyplot as plt\n",
    "\n"
   ]
  }
 ],
 "metadata": {
  "kernelspec": {
   "display_name": ".venvIC",
   "language": "python",
   "name": "python3"
  },
  "language_info": {
   "codemirror_mode": {
    "name": "ipython",
    "version": 3
   },
   "file_extension": ".py",
   "mimetype": "text/x-python",
   "name": "python",
   "nbconvert_exporter": "python",
   "pygments_lexer": "ipython3",
   "version": "3.13.7"
  }
 },
 "nbformat": 4,
 "nbformat_minor": 5
}
